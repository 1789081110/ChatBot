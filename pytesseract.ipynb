{
 "cells": [
  {
   "cell_type": "code",
   "execution_count": 27,
   "id": "62cc0921",
   "metadata": {},
   "outputs": [],
   "source": [
    "import pytesseract\n",
    "pytesseract.pytesseract.tesseract_cmd=r\"C:\\Program Files\\Tesseract-OCR\\tesseract.exe\"\n",
    "import cv2\n",
    "import PIL\n",
    "import os"
   ]
  },
  {
   "cell_type": "code",
   "execution_count": 23,
   "id": "44a31d92",
   "metadata": {},
   "outputs": [],
   "source": [
    "def image_text(img):\n",
    "    img=cv2.imread(img)\n",
    "    cv2.imshow('Image',img)\n",
    "    cv2.waitKey(0)\n",
    "    cv2.destroyAllWindows()\n",
    "    text=pytesseract.image_to_string(img)\n",
    "    print(text)"
   ]
  },
  {
   "cell_type": "code",
   "execution_count": 34,
   "id": "252ca6d6",
   "metadata": {},
   "outputs": [],
   "source": [
    "my_file='text2.png'"
   ]
  },
  {
   "cell_type": "code",
   "execution_count": 35,
   "id": "65472b77",
   "metadata": {},
   "outputs": [
    {
     "name": "stdout",
     "output_type": "stream",
     "text": [
      "It was the best of\n",
      "times, it was the worst\n",
      "of times, it was the age\n",
      "of wisdom, it was the\n",
      "\n",
      "age of foolishness\n",
      "\n",
      "\n"
     ]
    }
   ],
   "source": [
    "image_text(my_file)"
   ]
  },
  {
   "cell_type": "code",
   "execution_count": 41,
   "id": "e3700433",
   "metadata": {},
   "outputs": [
    {
     "name": "stdout",
     "output_type": "stream",
     "text": [
      "File name :  text2.png\n",
      "Directory Name:  C:\\Users\\vknsr\\text2.png\n"
     ]
    }
   ],
   "source": [
    "import os\n",
    "\n",
    "print('File name : ', os.path.basename(my_file))\n",
    "print('Directory Name: ', os.path.abspath(my_file))\n"
   ]
  },
  {
   "cell_type": "code",
   "execution_count": 42,
   "id": "5fcd220c",
   "metadata": {},
   "outputs": [
    {
     "name": "stdout",
     "output_type": "stream",
     "text": [
      "It was the best of\n",
      "times, it was the worst\n",
      "of times, it was the age\n",
      "of wisdom, it was the\n",
      "\n",
      "age of foolishness\n",
      "\n",
      "\n"
     ]
    }
   ],
   "source": [
    "file=os.path.abspath(my_file)\n",
    "image_text(file)"
   ]
  },
  {
   "cell_type": "code",
   "execution_count": null,
   "id": "19f3336c",
   "metadata": {},
   "outputs": [],
   "source": []
  }
 ],
 "metadata": {
  "kernelspec": {
   "display_name": "Python 3 (ipykernel)",
   "language": "python",
   "name": "python3"
  },
  "language_info": {
   "codemirror_mode": {
    "name": "ipython",
    "version": 3
   },
   "file_extension": ".py",
   "mimetype": "text/x-python",
   "name": "python",
   "nbconvert_exporter": "python",
   "pygments_lexer": "ipython3",
   "version": "3.10.9"
  }
 },
 "nbformat": 4,
 "nbformat_minor": 5
}
